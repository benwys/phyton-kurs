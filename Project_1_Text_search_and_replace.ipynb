{
  "nbformat": 4,
  "nbformat_minor": 0,
  "metadata": {
    "colab": {
      "provenance": [],
      "collapsed_sections": [
        "e69RnJyJyd_e",
        "cdOLCcCeyNC1",
        "EbVdB4l9AmmY"
      ],
      "authorship_tag": "ABX9TyPeKm97dsX5wfnuDhKZsp+Y",
      "include_colab_link": true
    },
    "kernelspec": {
      "name": "python3",
      "display_name": "Python 3"
    },
    "language_info": {
      "name": "python"
    }
  },
  "cells": [
    {
      "cell_type": "markdown",
      "metadata": {
        "id": "view-in-github",
        "colab_type": "text"
      },
      "source": [
        "<a href=\"https://colab.research.google.com/github/benwys/phyton-kurs/blob/main/Project_1_Text_search_and_replace.ipynb\" target=\"_parent\"><img src=\"https://colab.research.google.com/assets/colab-badge.svg\" alt=\"Open In Colab\"/></a>"
      ]
    },
    {
      "cell_type": "markdown",
      "source": [
        "### project"
      ],
      "metadata": {
        "id": "e69RnJyJyd_e"
      }
    },
    {
      "cell_type": "code",
      "execution_count": 21,
      "metadata": {
        "id": "ZyeRilbpadTm"
      },
      "outputs": [],
      "source": [
        "# import all necessary modules\n",
        "from google.colab import files\n",
        "import re"
      ]
    },
    {
      "cell_type": "code",
      "source": [
        "fil = files.upload()"
      ],
      "metadata": {
        "colab": {
          "base_uri": "https://localhost:8080/",
          "height": 73
        },
        "id": "LMprEsTlm6tj",
        "outputId": "26a0aec5-928c-4aab-c057-c29a2be21e6c"
      },
      "execution_count": 2,
      "outputs": [
        {
          "output_type": "display_data",
          "data": {
            "text/plain": [
              "<IPython.core.display.HTML object>"
            ],
            "text/html": [
              "\n",
              "     <input type=\"file\" id=\"files-9da40ac8-b348-4d42-a19c-28b4aae4122d\" name=\"files[]\" multiple disabled\n",
              "        style=\"border:none\" />\n",
              "     <output id=\"result-9da40ac8-b348-4d42-a19c-28b4aae4122d\">\n",
              "      Upload widget is only available when the cell has been executed in the\n",
              "      current browser session. Please rerun this cell to enable.\n",
              "      </output>\n",
              "      <script>// Copyright 2017 Google LLC\n",
              "//\n",
              "// Licensed under the Apache License, Version 2.0 (the \"License\");\n",
              "// you may not use this file except in compliance with the License.\n",
              "// You may obtain a copy of the License at\n",
              "//\n",
              "//      http://www.apache.org/licenses/LICENSE-2.0\n",
              "//\n",
              "// Unless required by applicable law or agreed to in writing, software\n",
              "// distributed under the License is distributed on an \"AS IS\" BASIS,\n",
              "// WITHOUT WARRANTIES OR CONDITIONS OF ANY KIND, either express or implied.\n",
              "// See the License for the specific language governing permissions and\n",
              "// limitations under the License.\n",
              "\n",
              "/**\n",
              " * @fileoverview Helpers for google.colab Python module.\n",
              " */\n",
              "(function(scope) {\n",
              "function span(text, styleAttributes = {}) {\n",
              "  const element = document.createElement('span');\n",
              "  element.textContent = text;\n",
              "  for (const key of Object.keys(styleAttributes)) {\n",
              "    element.style[key] = styleAttributes[key];\n",
              "  }\n",
              "  return element;\n",
              "}\n",
              "\n",
              "// Max number of bytes which will be uploaded at a time.\n",
              "const MAX_PAYLOAD_SIZE = 100 * 1024;\n",
              "\n",
              "function _uploadFiles(inputId, outputId) {\n",
              "  const steps = uploadFilesStep(inputId, outputId);\n",
              "  const outputElement = document.getElementById(outputId);\n",
              "  // Cache steps on the outputElement to make it available for the next call\n",
              "  // to uploadFilesContinue from Python.\n",
              "  outputElement.steps = steps;\n",
              "\n",
              "  return _uploadFilesContinue(outputId);\n",
              "}\n",
              "\n",
              "// This is roughly an async generator (not supported in the browser yet),\n",
              "// where there are multiple asynchronous steps and the Python side is going\n",
              "// to poll for completion of each step.\n",
              "// This uses a Promise to block the python side on completion of each step,\n",
              "// then passes the result of the previous step as the input to the next step.\n",
              "function _uploadFilesContinue(outputId) {\n",
              "  const outputElement = document.getElementById(outputId);\n",
              "  const steps = outputElement.steps;\n",
              "\n",
              "  const next = steps.next(outputElement.lastPromiseValue);\n",
              "  return Promise.resolve(next.value.promise).then((value) => {\n",
              "    // Cache the last promise value to make it available to the next\n",
              "    // step of the generator.\n",
              "    outputElement.lastPromiseValue = value;\n",
              "    return next.value.response;\n",
              "  });\n",
              "}\n",
              "\n",
              "/**\n",
              " * Generator function which is called between each async step of the upload\n",
              " * process.\n",
              " * @param {string} inputId Element ID of the input file picker element.\n",
              " * @param {string} outputId Element ID of the output display.\n",
              " * @return {!Iterable<!Object>} Iterable of next steps.\n",
              " */\n",
              "function* uploadFilesStep(inputId, outputId) {\n",
              "  const inputElement = document.getElementById(inputId);\n",
              "  inputElement.disabled = false;\n",
              "\n",
              "  const outputElement = document.getElementById(outputId);\n",
              "  outputElement.innerHTML = '';\n",
              "\n",
              "  const pickedPromise = new Promise((resolve) => {\n",
              "    inputElement.addEventListener('change', (e) => {\n",
              "      resolve(e.target.files);\n",
              "    });\n",
              "  });\n",
              "\n",
              "  const cancel = document.createElement('button');\n",
              "  inputElement.parentElement.appendChild(cancel);\n",
              "  cancel.textContent = 'Cancel upload';\n",
              "  const cancelPromise = new Promise((resolve) => {\n",
              "    cancel.onclick = () => {\n",
              "      resolve(null);\n",
              "    };\n",
              "  });\n",
              "\n",
              "  // Wait for the user to pick the files.\n",
              "  const files = yield {\n",
              "    promise: Promise.race([pickedPromise, cancelPromise]),\n",
              "    response: {\n",
              "      action: 'starting',\n",
              "    }\n",
              "  };\n",
              "\n",
              "  cancel.remove();\n",
              "\n",
              "  // Disable the input element since further picks are not allowed.\n",
              "  inputElement.disabled = true;\n",
              "\n",
              "  if (!files) {\n",
              "    return {\n",
              "      response: {\n",
              "        action: 'complete',\n",
              "      }\n",
              "    };\n",
              "  }\n",
              "\n",
              "  for (const file of files) {\n",
              "    const li = document.createElement('li');\n",
              "    li.append(span(file.name, {fontWeight: 'bold'}));\n",
              "    li.append(span(\n",
              "        `(${file.type || 'n/a'}) - ${file.size} bytes, ` +\n",
              "        `last modified: ${\n",
              "            file.lastModifiedDate ? file.lastModifiedDate.toLocaleDateString() :\n",
              "                                    'n/a'} - `));\n",
              "    const percent = span('0% done');\n",
              "    li.appendChild(percent);\n",
              "\n",
              "    outputElement.appendChild(li);\n",
              "\n",
              "    const fileDataPromise = new Promise((resolve) => {\n",
              "      const reader = new FileReader();\n",
              "      reader.onload = (e) => {\n",
              "        resolve(e.target.result);\n",
              "      };\n",
              "      reader.readAsArrayBuffer(file);\n",
              "    });\n",
              "    // Wait for the data to be ready.\n",
              "    let fileData = yield {\n",
              "      promise: fileDataPromise,\n",
              "      response: {\n",
              "        action: 'continue',\n",
              "      }\n",
              "    };\n",
              "\n",
              "    // Use a chunked sending to avoid message size limits. See b/62115660.\n",
              "    let position = 0;\n",
              "    do {\n",
              "      const length = Math.min(fileData.byteLength - position, MAX_PAYLOAD_SIZE);\n",
              "      const chunk = new Uint8Array(fileData, position, length);\n",
              "      position += length;\n",
              "\n",
              "      const base64 = btoa(String.fromCharCode.apply(null, chunk));\n",
              "      yield {\n",
              "        response: {\n",
              "          action: 'append',\n",
              "          file: file.name,\n",
              "          data: base64,\n",
              "        },\n",
              "      };\n",
              "\n",
              "      let percentDone = fileData.byteLength === 0 ?\n",
              "          100 :\n",
              "          Math.round((position / fileData.byteLength) * 100);\n",
              "      percent.textContent = `${percentDone}% done`;\n",
              "\n",
              "    } while (position < fileData.byteLength);\n",
              "  }\n",
              "\n",
              "  // All done.\n",
              "  yield {\n",
              "    response: {\n",
              "      action: 'complete',\n",
              "    }\n",
              "  };\n",
              "}\n",
              "\n",
              "scope.google = scope.google || {};\n",
              "scope.google.colab = scope.google.colab || {};\n",
              "scope.google.colab._files = {\n",
              "  _uploadFiles,\n",
              "  _uploadFilesContinue,\n",
              "};\n",
              "})(self);\n",
              "</script> "
            ]
          },
          "metadata": {}
        },
        {
          "output_type": "stream",
          "name": "stdout",
          "text": [
            "Saving captions_text.vtt to captions_text.vtt\n"
          ]
        }
      ]
    },
    {
      "cell_type": "code",
      "source": [
        "fil\n",
        "# print(type(fil))\n",
        "# it's a dictionary, we want to exctract just the key\n",
        "\n",
        "key = list(fil.keys()) #one item list\n",
        "text = str(fil[key[0]])\n",
        "\n",
        "text"
      ],
      "metadata": {
        "colab": {
          "base_uri": "https://localhost:8080/",
          "height": 88
        },
        "id": "nwYmLQQ0nQOL",
        "outputId": "1f8a9699-f479-4ee0-d94e-a932de15dfae"
      },
      "execution_count": 20,
      "outputs": [
        {
          "output_type": "execute_result",
          "data": {
            "text/plain": [
              "'b\"WEBVTT\\\\n\\\\n0\\\\n00:00.760 --> 00:05.080\\\\nI\\'m now going to give you two more example problems of computing.\\\\n\\\\n1\\\\n00:05.080 --> 00:09.310\\\\neigendecomposition of matrices by hand.\\\\n\\\\n2\\\\n00:09.310 --> 00:14.860\\\\nObviously this is on the computer but I encourage you to do these problems by hand and they\\'re not done\\\\n\\\\n3\\\\n00:14.860 --> 00:15.520\\\\nin Matlab.\\\\n\\\\n4\\\\n00:15.520 --> 00:19.270\\\\nSo I guess that\\'s what it means by hand.\\\\n\\\\n5\\\\n00:19.270 --> 00:20.530\\\\nSo let\\'s get started.\\\\n\\\\n6\\\\n00:20.560 --> 00:28.030\\\\nHere is a two by two matrix and you should pause the video go through find the eigenvalues and the eigenvectors\\\\n\\\\n7\\\\n00:28.060 --> 00:37.120\\\\nof this matrix so the way we start is by shifting the matrix by Lambda so subtracting lambda from the\\\\n\\\\n8\\\\n00:37.120 --> 00:44.260\\\\ndiagonal elements setting the determinant equal to zero and then proceeding to compute the determinant\\\\n\\\\n9\\\\n00:44.290 --> 00:48.820\\\\nwhich is also called the characteristic equation of this matrix.\\\\n\\\\n10\\\\n00:48.850 --> 00:57.730\\\\nSo that works out to be three minus lambda times six minus lambda minus four equals zero and then expanding\\\\n\\\\n11\\\\n00:57.760 --> 01:04.600\\\\nthese two terms multiplying out these two terms and then collecting the like terms gives us lambda squared\\\\n\\\\n12\\\\n01:04.960 --> 01:13.930\\\\nminus nine lambda plus fourteen equals zero and then this expression here can be factored into lambda\\\\n\\\\n13\\\\n01:14.020 --> 01:22.150\\\\nminus seven and Lambda minus two and now it\\'s pretty easy to see that the two lambdas that will solve\\\\n\\\\n14\\\\n01:22.150 --> 01:24.280\\\\nthis equation that solve this equation.\\\\n\\\\n15\\\\n01:24.280 --> 01:30.910\\\\nIn other words the two eigenvalues of this matrix are plus 7 and plus two.\\\\n\\\\n16\\\\n01:30.910 --> 01:37.180\\\\nSo that was step one we found the eigenvalues of this matrix and now we go through for each of these\\\\n\\\\n17\\\\n01:37.180 --> 01:45.160\\\\neigenvalues shift the matrix by that amount by that value and then figure out what is a vector in the\\\\n\\\\n18\\\\n01:45.280 --> 01:48.410\\\\nshifted matrices null space.\\\\n\\\\n19\\\\n01:48.630 --> 01:50.530\\\\nOK so let\\'s start with 2.\\\\n\\\\n20\\\\n01:50.580 --> 01:53.610\\\\nSo this gives us the matrix 1 1 4 4.\\\\n\\\\n21\\\\n01:53.610 --> 02:00.360\\\\nAnd now we want to find the missing vector here and you\\'ve probably guessed it already it is 1 minus\\\\n\\\\n22\\\\n02:00.360 --> 02:01.470\\\\n1.\\\\n\\\\n23\\\\n02:01.590 --> 02:09.330\\\\nAnd of course you know that also acceptable would be minus 1 1 or minus quadrillion plus quadrillion.\\\\n\\\\n24\\\\n02:09.570 --> 02:17.130\\\\nThis vector simply identifies a subspace for the null space of this shifted matrix in any vector that\\'s\\\\n\\\\n25\\\\n02:17.250 --> 02:23.520\\\\nin that null space is perfectly fine as an eigenvector.\\\\n\\\\n26\\\\n02:23.520 --> 02:31.860\\\\nNow that said the best choice for an eigenvector would be a vector that has a norm of 1 a magnitude\\\\n\\\\n27\\\\n02:31.860 --> 02:32.710\\\\nof 1.\\\\n\\\\n28\\\\n02:32.940 --> 02:39.270\\\\nAnd the second best choice would be integer values that are easy to interpret and compact to write like\\\\n\\\\n29\\\\n02:39.270 --> 02:40.230\\\\nthis.\\\\n\\\\n30\\\\n02:40.230 --> 02:40.500\\\\nAll right.\\\\n\\\\n31\\\\n02:40.520 --> 02:41.730\\\\nSo this was for two.\\\\n\\\\n32\\\\n02:41.730 --> 02:49.350\\\\nNow we go to the second eigenvalues which was seven and that gives us this matrix minus 4 1 and 4 minus\\\\n\\\\n33\\\\n02:49.350 --> 02:50.300\\\\n1.\\\\n\\\\n34\\\\n02:50.370 --> 02:57.210\\\\nAnd here a vector that could work as an eigenvector as a basis for the null space of this shifted matrix\\\\n\\\\n35\\\\n02:57.300 --> 02:59.790\\\\nis the numbers 1 4.\\\\n\\\\n36\\\\n02:59.820 --> 03:06.690\\\\nSo here is the big picture overview we have this matrix and here you see the eigenvalue and its corresponding\\\\n\\\\n37\\\\n03:06.690 --> 03:12.010\\\\neigenvector and the other eigenvalue and the other corresponding eigenvector.\\\\n\\\\n38\\\\n03:12.060 --> 03:14.080\\\\nNow your results will be correct.\\\\n\\\\n39\\\\n03:14.190 --> 03:21.960\\\\nIf you have the correct pairing of eigenvalue and any multiple any scaled version of this vector; it\\\\n\\\\n40\\\\n03:21.960 --> 03:28.860\\\\ndoesn\\'t matter if you call this lambda one and this V one that\\'s fine because there\\'s no intrinsic ordering.\\\\n\\\\n41\\\\n03:28.860 --> 03:32.250\\\\nWhat matters is that you have the pairing correct.\\\\n\\\\n42\\\\n03:32.250 --> 03:32.470\\\\nAll right.\\\\n\\\\n43\\\\n03:32.490 --> 03:34.310\\\\nSo that was the two by two case.\\\\n\\\\n44\\\\n03:34.380 --> 03:37.080\\\\nNow let\\'s go for a three by three case.\\\\n\\\\n45\\\\n03:37.080 --> 03:40.160\\\\nThis one is a little bit more challenging and I have to admit.\\\\n\\\\n46\\\\n03:40.200 --> 03:45.660\\\\nSo I first came up with these numbers and then I started computing the eigendecomposition.\\\\n\\\\n47\\\\n03:45.660 --> 03:50.480\\\\nNow I have to admit that I got stuck on one of the eigenvectors.\\\\n\\\\n48\\\\n03:50.670 --> 03:52.400\\\\nI couldn\\'t quite figure it out on my own.\\\\n\\\\n49\\\\n03:52.430 --> 03:54.390\\\\nSo I used Matlab to compute that\\\\n\\\\n50\\\\n03:54.390 --> 03:55.200\\\\neigenvector.\\\\n\\\\n51\\\\n03:55.500 --> 04:04.490\\\\nSo what I encourage you to do is find all three eigenvalues by hand and I think it will be pretty obvious\\\\n\\\\n52\\\\n04:04.490 --> 04:08.390\\\\nwhen you start working through it which is the difficult eigenvalue.\\\\n\\\\n53\\\\n04:08.390 --> 04:15.530\\\\nSo then what you should do by hand is find two of the eigenvectors that you can get basically just by\\\\n\\\\n54\\\\n04:15.800 --> 04:18.920\\\\nkind of eyeballing and making some educated guesses.\\\\n\\\\n55\\\\n04:18.920 --> 04:24.860\\\\nAnd then the third eigenvector you can use a computer to solve or you can just wait and watch me come\\\\n\\\\n56\\\\n04:24.860 --> 04:26.660\\\\nup with a solution.\\\\n\\\\n57\\\\n04:26.850 --> 04:27.090\\\\nAll right.\\\\n\\\\n58\\\\n04:27.120 --> 04:34.590\\\\nSo again we start by shifting this matrix by minus lambda setting the determinant equal to zero and\\\\n\\\\n59\\\\n04:34.590 --> 04:40.770\\\\nthen proceeding to compute the determinant of this equation and altogether that gives us the characteristic\\\\n\\\\n60\\\\n04:40.830 --> 04:43.560\\\\nequation of this matrix.\\\\n\\\\n61\\\\n04:43.560 --> 04:45.270\\\\nNow this is a little bit longer.\\\\n\\\\n62\\\\n04:45.270 --> 04:50.820\\\\nIt\\'s a little bit trickier the arithmetic gets a little bit hairy in particular you end up with this\\\\n\\\\n63\\\\n04:50.910 --> 04:59.240\\\\nminus lambda cubed term as well as a couple of multiple terms with Lambda and Lambda squared.\\\\n\\\\n64\\\\n04:59.250 --> 05:05.490\\\\nNow once you collect all of these like terms you\\'ll end up with an expression that looks like this.\\\\n\\\\n65\\\\n05:05.520 --> 05:15.240\\\\nSo it should be minus lambda cubed plus 10 times lambda squared plus eleven lambda equals zero Now something\\\\n\\\\n66\\\\n05:15.270 --> 05:22.030\\\\ninteresting has happened here all of these terms have a lambda attached to them which means that we\\\\n\\\\n67\\\\n05:22.030 --> 05:29.950\\\\ncan take a lambda out of each of these terms and rewrite this expression as minus lambda times.\\\\n\\\\n68\\\\n05:29.980 --> 05:36.160\\\\nAll of this stuff and immediately that tells us that lambda equals zero is a solution.\\\\n\\\\n69\\\\n05:36.160 --> 05:43.030\\\\nSo when you set this lambda to be zero it doesn\\'t actually matter what\\'s inside this parenthetical statement\\\\n\\\\n70\\\\n05:43.360 --> 05:47.390\\\\nthat\\'s immediately going to set to make this equation true.\\\\n\\\\n71\\\\n05:47.440 --> 05:55.300\\\\nThat means that one of the eigenvalues of this matrix is zero and I\\'m going to have an entire video\\\\n\\\\n72\\\\n05:55.330 --> 05:59.140\\\\njust about this phenomenon a little bit later in this section.\\\\n\\\\n73\\\\n05:59.140 --> 06:03.550\\\\nBut essentially when an eigenvector is an eigenvalue is zero.\\\\n\\\\n74\\\\n06:03.730 --> 06:10.360\\\\nIt means that the matrix is singular and that you can actually see by looking at this matrix and you\\\\n\\\\n75\\\\n06:10.360 --> 06:19.080\\\\nsee that column 1 plus column 2 equals column 3 so whenever you have a singular matrix at least one\\\\n\\\\n76\\\\n06:19.140 --> 06:22.110\\\\neigenvalues value is going to be equal to zero.\\\\n\\\\n77\\\\n06:22.170 --> 06:30.450\\\\nAnd in fact the number of eigenvalues that are equal to zero tells you about the rank of this matrix.\\\\n\\\\n78\\\\n06:30.490 --> 06:33.870\\\\nMore on that in the later video.\\\\n\\\\n79\\\\n06:33.880 --> 06:39.160\\\\nNow once you\\'ve gotten to this step you can further factor this equation and you end up with the result\\\\n\\\\n80\\\\n06:39.160 --> 06:44.360\\\\nthat lambda equals zero lambda equals minus 1 and Lambda equals eleven.\\\\n\\\\n81\\\\n06:44.590 --> 06:50.110\\\\nSo you can probably guess that this is going to be the tricky I can value to compute the corresponding\\\\n\\\\n82\\\\n06:50.110 --> 06:55.600\\\\nI can vector of and this is the one that I got a little bit stuck with.\\\\n\\\\n83\\\\n06:55.600 --> 06:57.490\\\\nAnd so I used Matlab as a crutch.\\\\n\\\\n84\\\\n06:57.490 --> 06:58.540\\\\nI cheated a little bit.\\\\n\\\\n85\\\\n06:59.250 --> 07:01.500\\\\nOK so but let\\'s go through all of these.\\\\n\\\\n86\\\\n07:01.840 --> 07:07.840\\\\nSo we start with zero and now this is kind of a funny thing because we are shifting the matrix by zero\\\\n\\\\n87\\\\n07:08.200 --> 07:10.970\\\\nwhich actually means we\\'re not changing the matrix at all.\\\\n\\\\n88\\\\n07:11.140 --> 07:21.000\\\\nAnd that means that this matrix A already has a non-trivial null space even without doing any shifting.\\\\n\\\\n89\\\\n07:21.130 --> 07:28.010\\\\nSo this problem actually boils down to finding a vector in the null space or a basis for the null space.\\\\n\\\\n90\\\\n07:28.270 --> 07:35.380\\\\nEven without doing any shifting so based on what I just told you about how do I set up this matrix that\\\\n\\\\n91\\\\n07:35.660 --> 07:42.950\\\\ncolumn one plus column two equals column three a basis for the null space is 1 one minus 1.\\\\n\\\\n92\\\\n07:42.970 --> 07:49.130\\\\nSo you can try for each of these rows the first column plus the second column minus the third column\\\\n\\\\n93\\\\n07:49.220 --> 07:52.090\\\\nequals zero all right.\\\\n\\\\n94\\\\n07:52.100 --> 07:53.270\\\\nSo now let\\'s move on.\\\\n\\\\n95\\\\n07:53.270 --> 07:59.350\\\\nSo now we shift this matrix by eleven and this is basically where I got stuck and switch to matlab.\\\\n\\\\n96\\\\n07:59.360 --> 08:04.570\\\\nSo it turns out that eigenvector is nineteen forty one and thirty six.\\\\n\\\\n97\\\\n08:04.580 --> 08:10.430\\\\nSo if you figured out this I can vector on your own without using a computer then good for you you are\\\\n\\\\n98\\\\n08:10.460 --> 08:14.960\\\\na better or at least more patient mathematician than I am.\\\\n\\\\n99\\\\n08:15.200 --> 08:19.210\\\\nAnd then we get to the third eigenvalue which was minus one.\\\\n\\\\n100\\\\n08:19.220 --> 08:21.130\\\\nSo now that becomes plus one.\\\\n\\\\n101\\\\n08:21.230 --> 08:26.390\\\\nAnd here is that shifted matrix and this one you should be able to solve on your own.\\\\n\\\\n102\\\\n08:26.480 --> 08:28.810\\\\nIn fact it\\'s even easier than it looks.\\\\n\\\\n103\\\\n08:28.820 --> 08:35.930\\\\nAnd if you need a hint before I show the answer then the hint is just consider that this third column\\\\n\\\\n104\\\\n08:36.020 --> 08:42.340\\\\nis actually pretty useless if you get rid of this third column it becomes really easy to find the \\\\n\\\\n105\\\\n08:42.380 --> 08:46.520\\\\neigenvector in this shifted matrices null space.\\\\n\\\\n106\\\\n08:46.790 --> 08:52.400\\\\nSo in fact it\\'s one minus one and then zero you just set the third element to be zero.\\\\n\\\\n107\\\\n08:52.670 --> 08:59.810\\\\nSo that leads us to the big picture overview of the eigendecomposition of this three by three singular\\\\n\\\\n108\\\\n08:59.810 --> 09:06.130\\\\nmatrix rank 2 matrix we have eigenvalues 0 minus 11 and minus 1.\\\\n\\\\n109\\\\n09:06.200 --> 09:09.200\\\\nAnd these are the corresponding eigenvectors.\\\\n\\\\n110\\\\n09:09.200 --> 09:12.430\\\\nAnd notice I\\'ve written them as row vectors and then transpose.\\\\n\\\\n111\\\\n09:12.430 --> 09:19.160\\\\nSo these are still column vectors we generally always think about eigenvectors as column vectors and\\\\n\\\\n112\\\\n09:19.160 --> 09:25.640\\\\nyou will learn more about why that is the case in the video on diagonalization, which is coming up soon.\"'"
            ],
            "application/vnd.google.colaboratory.intrinsic+json": {
              "type": "string"
            }
          },
          "metadata": {},
          "execution_count": 20
        }
      ]
    },
    {
      "cell_type": "code",
      "source": [
        "# pattern to replace\n",
        "'\\\\n\\\\n1\\\\n00:05.080 --> 00:09.310\\\\n'\n",
        "\n",
        "pattern2replace = r'\\\\n\\\\n\\d{1,3}\\\\n\\d\\d:\\d\\d.\\d\\d\\d --> \\d\\d:\\d\\d.\\d\\d\\d\\\\n'\n",
        "# \\d - search fot digit\n",
        "# \\d{1,3} - tells phyton that it can be one, two or three digits\n",
        "regrex_timestamps = re.compile(pattern2replace)\n",
        "regrex_timestamps.findall(text)"
      ],
      "metadata": {
        "id": "jbRXDRhn36vU"
      },
      "execution_count": null,
      "outputs": []
    },
    {
      "cell_type": "code",
      "source": [
        "newtext = regrex_timestamps.sub(' ', text)\n",
        "newtext = newtext[9:-1] #to cut unnecessary letters\n",
        "newtext"
      ],
      "metadata": {
        "colab": {
          "base_uri": "https://localhost:8080/",
          "height": 88
        },
        "id": "SOijk4Ts3-i8",
        "outputId": "02c8c654-5e5a-4ffe-c20c-993d370b0089"
      },
      "execution_count": 52,
      "outputs": [
        {
          "output_type": "execute_result",
          "data": {
            "text/plain": [
              "\"I'm now going to give you two more example problems of computing. eigendecomposition of matrices by hand. Obviously this is on the computer but I encourage you to do these problems by hand and they're not done in Matlab. So I guess that's what it means by hand. So let's get started. Here is a two by two matrix and you should pause the video go through find the eigenvalues and the eigenvectors of this matrix so the way we start is by shifting the matrix by Lambda so subtracting lambda from the diagonal elements setting the determinant equal to zero and then proceeding to compute the determinant which is also called the characteristic equation of this matrix. So that works out to be three minus lambda times six minus lambda minus four equals zero and then expanding these two terms multiplying out these two terms and then collecting the like terms gives us lambda squared minus nine lambda plus fourteen equals zero and then this expression here can be factored into lambda minus seven and Lambda minus two and now it's pretty easy to see that the two lambdas that will solve this equation that solve this equation. In other words the two eigenvalues of this matrix are plus 7 and plus two. So that was step one we found the eigenvalues of this matrix and now we go through for each of these eigenvalues shift the matrix by that amount by that value and then figure out what is a vector in the shifted matrices null space. OK so let's start with 2. So this gives us the matrix 1 1 4 4. And now we want to find the missing vector here and you've probably guessed it already it is 1 minus 1. And of course you know that also acceptable would be minus 1 1 or minus quadrillion plus quadrillion. This vector simply identifies a subspace for the null space of this shifted matrix in any vector that's in that null space is perfectly fine as an eigenvector. Now that said the best choice for an eigenvector would be a vector that has a norm of 1 a magnitude of 1. And the second best choice would be integer values that are easy to interpret and compact to write like this. All right. So this was for two. Now we go to the second eigenvalues which was seven and that gives us this matrix minus 4 1 and 4 minus 1. And here a vector that could work as an eigenvector as a basis for the null space of this shifted matrix is the numbers 1 4. So here is the big picture overview we have this matrix and here you see the eigenvalue and its corresponding eigenvector and the other eigenvalue and the other corresponding eigenvector. Now your results will be correct. If you have the correct pairing of eigenvalue and any multiple any scaled version of this vector; it doesn't matter if you call this lambda one and this V one that's fine because there's no intrinsic ordering. What matters is that you have the pairing correct. All right. So that was the two by two case. Now let's go for a three by three case. This one is a little bit more challenging and I have to admit. So I first came up with these numbers and then I started computing the eigendecomposition. Now I have to admit that I got stuck on one of the eigenvectors. I couldn't quite figure it out on my own. So I used Matlab to compute that eigenvector. So what I encourage you to do is find all three eigenvalues by hand and I think it will be pretty obvious when you start working through it which is the difficult eigenvalue. So then what you should do by hand is find two of the eigenvectors that you can get basically just by kind of eyeballing and making some educated guesses. And then the third eigenvector you can use a computer to solve or you can just wait and watch me come up with a solution. All right. So again we start by shifting this matrix by minus lambda setting the determinant equal to zero and then proceeding to compute the determinant of this equation and altogether that gives us the characteristic equation of this matrix. Now this is a little bit longer. It's a little bit trickier the arithmetic gets a little bit hairy in particular you end up with this minus lambda cubed term as well as a couple of multiple terms with Lambda and Lambda squared. Now once you collect all of these like terms you'll end up with an expression that looks like this. So it should be minus lambda cubed plus 10 times lambda squared plus eleven lambda equals zero Now something interesting has happened here all of these terms have a lambda attached to them which means that we can take a lambda out of each of these terms and rewrite this expression as minus lambda times. All of this stuff and immediately that tells us that lambda equals zero is a solution. So when you set this lambda to be zero it doesn't actually matter what's inside this parenthetical statement that's immediately going to set to make this equation true. That means that one of the eigenvalues of this matrix is zero and I'm going to have an entire video just about this phenomenon a little bit later in this section. But essentially when an eigenvector is an eigenvalue is zero. It means that the matrix is singular and that you can actually see by looking at this matrix and you see that column 1 plus column 2 equals column 3 so whenever you have a singular matrix at least one eigenvalues value is going to be equal to zero. And in fact the number of eigenvalues that are equal to zero tells you about the rank of this matrix. More on that in the later video. Now once you've gotten to this step you can further factor this equation and you end up with the result that lambda equals zero lambda equals minus 1 and Lambda equals eleven. So you can probably guess that this is going to be the tricky I can value to compute the corresponding I can vector of and this is the one that I got a little bit stuck with. And so I used Matlab as a crutch. I cheated a little bit. OK so but let's go through all of these. So we start with zero and now this is kind of a funny thing because we are shifting the matrix by zero which actually means we're not changing the matrix at all. And that means that this matrix A already has a non-trivial null space even without doing any shifting. So this problem actually boils down to finding a vector in the null space or a basis for the null space. Even without doing any shifting so based on what I just told you about how do I set up this matrix that column one plus column two equals column three a basis for the null space is 1 one minus 1. So you can try for each of these rows the first column plus the second column minus the third column equals zero all right. So now let's move on. So now we shift this matrix by eleven and this is basically where I got stuck and switch to matlab. So it turns out that eigenvector is nineteen forty one and thirty six. So if you figured out this I can vector on your own without using a computer then good for you you are a better or at least more patient mathematician than I am. And then we get to the third eigenvalue which was minus one. So now that becomes plus one. And here is that shifted matrix and this one you should be able to solve on your own. In fact it's even easier than it looks. And if you need a hint before I show the answer then the hint is just consider that this third column is actually pretty useless if you get rid of this third column it becomes really easy to find the  eigenvector in this shifted matrices null space. So in fact it's one minus one and then zero you just set the third element to be zero. So that leads us to the big picture overview of the eigendecomposition of this three by three singular matrix rank 2 matrix we have eigenvalues 0 minus 11 and minus 1. And these are the corresponding eigenvectors. And notice I've written them as row vectors and then transpose. So these are still column vectors we generally always think about eigenvectors as column vectors and you will learn more about why that is the case in the video on diagonalization, which is coming up soon.\""
            ],
            "application/vnd.google.colaboratory.intrinsic+json": {
              "type": "string"
            }
          },
          "metadata": {},
          "execution_count": 52
        }
      ]
    },
    {
      "cell_type": "code",
      "source": [
        "words = newtext.split()\n",
        "# .split() - splits text into a list of words (according to spaces)\n",
        "# .split(sep='e') - splits according to \"e\"\n",
        "print(type(words))\n",
        "print(len(words))"
      ],
      "metadata": {
        "id": "cB6c9muQ70cK"
      },
      "execution_count": null,
      "outputs": []
    },
    {
      "cell_type": "code",
      "source": [
        "for wordi in range(len(words)):\n",
        "  if len(words[wordi]) ==4 and not words[wordi][-1]=='.': #only 4 letter words excluding those who end with dot\n",
        "    words[wordi] = words[wordi][0] + '***'"
      ],
      "metadata": {
        "id": "qKvq6pER9W-d"
      },
      "execution_count": null,
      "outputs": []
    },
    {
      "cell_type": "code",
      "source": [
        "cleantext = ' '.join(words)\n",
        "# ' '.join() - method that we can use on string, that connects list of strings acording to the separator in the prenteses"
      ],
      "metadata": {
        "id": "IRiiok_D-ef1"
      },
      "execution_count": 58,
      "outputs": []
    },
    {
      "cell_type": "code",
      "source": [
        "with open('clean_transcript.txt', 'w') as f: # 'w' means that phyton writes from these file\n",
        "  f.write(cleantext)\n",
        "\n",
        "files.download('clean_transcript.txt')"
      ],
      "metadata": {
        "colab": {
          "base_uri": "https://localhost:8080/",
          "height": 17
        },
        "id": "5N-L0F9u_gUz",
        "outputId": "248d236a-75c1-489d-a863-c670c4e2229a"
      },
      "execution_count": 59,
      "outputs": [
        {
          "output_type": "display_data",
          "data": {
            "text/plain": [
              "<IPython.core.display.Javascript object>"
            ],
            "application/javascript": [
              "\n",
              "    async function download(id, filename, size) {\n",
              "      if (!google.colab.kernel.accessAllowed) {\n",
              "        return;\n",
              "      }\n",
              "      const div = document.createElement('div');\n",
              "      const label = document.createElement('label');\n",
              "      label.textContent = `Downloading \"${filename}\": `;\n",
              "      div.appendChild(label);\n",
              "      const progress = document.createElement('progress');\n",
              "      progress.max = size;\n",
              "      div.appendChild(progress);\n",
              "      document.body.appendChild(div);\n",
              "\n",
              "      const buffers = [];\n",
              "      let downloaded = 0;\n",
              "\n",
              "      const channel = await google.colab.kernel.comms.open(id);\n",
              "      // Send a message to notify the kernel that we're ready.\n",
              "      channel.send({})\n",
              "\n",
              "      for await (const message of channel.messages) {\n",
              "        // Send a message to notify the kernel that we're ready.\n",
              "        channel.send({})\n",
              "        if (message.buffers) {\n",
              "          for (const buffer of message.buffers) {\n",
              "            buffers.push(buffer);\n",
              "            downloaded += buffer.byteLength;\n",
              "            progress.value = downloaded;\n",
              "          }\n",
              "        }\n",
              "      }\n",
              "      const blob = new Blob(buffers, {type: 'application/binary'});\n",
              "      const a = document.createElement('a');\n",
              "      a.href = window.URL.createObjectURL(blob);\n",
              "      a.download = filename;\n",
              "      div.appendChild(a);\n",
              "      a.click();\n",
              "      div.remove();\n",
              "    }\n",
              "  "
            ]
          },
          "metadata": {}
        },
        {
          "output_type": "display_data",
          "data": {
            "text/plain": [
              "<IPython.core.display.Javascript object>"
            ],
            "application/javascript": [
              "download(\"download_7f02a04e-e2f7-49c2-8d27-d83ea1b99059\", \"clean_transcript.txt\", 7941)"
            ]
          },
          "metadata": {}
        }
      ]
    },
    {
      "cell_type": "markdown",
      "source": [
        "### regular expression brief intro"
      ],
      "metadata": {
        "id": "cdOLCcCeyNC1"
      }
    },
    {
      "cell_type": "code",
      "source": [
        "sentence = \"Hi, my name is Ben and I watch a lot of Ben 10\"\n",
        "# find all instaces of word Ben\n",
        "regex_name = re.compile('Ben') #regular expression object that store a string 'Ben'\n",
        "regex_name.findall(sentence) #method that find all of the ocurances of word 'Ben' in the sentence"
      ],
      "metadata": {
        "colab": {
          "base_uri": "https://localhost:8080/"
        },
        "id": "DC9ZoCYYrLhT",
        "outputId": "114d75fc-0a97-4cca-b59d-e346248cf027"
      },
      "execution_count": 43,
      "outputs": [
        {
          "output_type": "execute_result",
          "data": {
            "text/plain": [
              "['Ben', 'Ben']"
            ]
          },
          "metadata": {},
          "execution_count": 43
        }
      ]
    },
    {
      "cell_type": "code",
      "source": [
        "regex_name.sub('BEN',sentence) #substitution method: replace the word 'Ben' with 'BEN'\n",
        "\n",
        "#it's quite flexible and you can change a lot of stuff\n",
        "names = ['Adam', 'Eve', 'Mark']\n",
        "for name in names:\n",
        "  print( regex_name.sub(name, sentence))"
      ],
      "metadata": {
        "colab": {
          "base_uri": "https://localhost:8080/"
        },
        "id": "eNKvLKFVr_2m",
        "outputId": "fa409c9c-f0a9-4707-a240-9b7df651344c"
      },
      "execution_count": 27,
      "outputs": [
        {
          "output_type": "stream",
          "name": "stdout",
          "text": [
            "Hi, my name is Adam and I watch a lot of Adam 10\n",
            "Hi, my name is Eve and I watch a lot of Eve 10\n",
            "Hi, my name is Mark and I watch a lot of Mark 10\n"
          ]
        }
      ]
    },
    {
      "cell_type": "code",
      "source": [
        "sentence = \"Hi, my name is Ben and I watch a lot of Bun 10\" #Ben & Bun - diffrent persones\n",
        "\n",
        "regrex_name = re.compile(r'B\\wn')\n",
        "# \\w - search for any character\n",
        "# r'B\\wn' - interpreted literaly\n",
        "\n",
        "regrex_name.findall(sentence)"
      ],
      "metadata": {
        "colab": {
          "base_uri": "https://localhost:8080/"
        },
        "id": "2ILelTyQvbUd",
        "outputId": "c53900ab-d502-4039-bd9f-f10cf645917e"
      },
      "execution_count": 47,
      "outputs": [
        {
          "output_type": "execute_result",
          "data": {
            "text/plain": [
              "['Ben', 'Bun']"
            ]
          },
          "metadata": {},
          "execution_count": 47
        }
      ]
    },
    {
      "cell_type": "markdown",
      "source": [
        "### bonus: readability of scrambled words"
      ],
      "metadata": {
        "id": "EbVdB4l9AmmY"
      }
    },
    {
      "cell_type": "code",
      "source": [
        "import numpy as np\n",
        "# np.random.permutation(4) => array([0, 1, 3, 2])"
      ],
      "metadata": {
        "id": "gtVUiTxjAxTh"
      },
      "execution_count": 61,
      "outputs": []
    },
    {
      "cell_type": "code",
      "source": [
        "text = \"I have often wondered whether it's possible to read an entire book faster if the useless letters were removed\""
      ],
      "metadata": {
        "id": "xPCzPyKbB_UT"
      },
      "execution_count": 62,
      "outputs": []
    },
    {
      "cell_type": "code",
      "source": [
        "word = text.split()"
      ],
      "metadata": {
        "id": "4VZK_-cZCjsh"
      },
      "execution_count": 82,
      "outputs": []
    },
    {
      "cell_type": "code",
      "source": [
        "# completely scramble all of the letters\n",
        "\n",
        "for wi in range(len(words)):\n",
        "  thisword = word[wi]\n",
        "  idx = np.random.permutation(len(thisword))\n",
        "  words[wi] = ''.join([thisword[i] for i in idx])\n",
        "\n",
        "' '.join(words)"
      ],
      "metadata": {
        "colab": {
          "base_uri": "https://localhost:8080/",
          "height": 35
        },
        "id": "-3fvNbzaJUPK",
        "outputId": "cb7d4b1b-4ce6-4708-d201-691806c4e991"
      },
      "execution_count": 81,
      "outputs": [
        {
          "output_type": "execute_result",
          "data": {
            "text/plain": [
              "\"I ahve ftoen ornweded rehwteh 'ist pssloebi ot adre na neerti okob refsta fi eth slesesu seetrtl erwe emroedv\""
            ],
            "application/vnd.google.colaboratory.intrinsic+json": {
              "type": "string"
            }
          },
          "metadata": {},
          "execution_count": 81
        }
      ]
    },
    {
      "cell_type": "code",
      "source": [
        "#scramble all of the letters except for the first and last\n",
        "\n",
        "for wi in range(len(words)):\n",
        "\n",
        "  # ignore short words\n",
        "  if len(words[wi])<4:\n",
        "    continue\n",
        "\n",
        "  thisword = word[wi][1:-1] #not including the last word\n",
        "  idx = np.random.permutation(len(thisword))\n",
        "  words[wi] = words[wi][0] + ''.join([thisword[i] for i in idx]) + words[wi][-1]\n",
        "\n",
        "' '.join(words)"
      ],
      "metadata": {
        "colab": {
          "base_uri": "https://localhost:8080/",
          "height": 35
        },
        "id": "ixWEL91QLMWc",
        "outputId": "076c2428-04b1-4b1a-d5c8-531ecdf73483"
      },
      "execution_count": 83,
      "outputs": [
        {
          "output_type": "execute_result",
          "data": {
            "text/plain": [
              "\"I avae feftn orneoded rhetehh 't't pilsosbi ot aeae na ntinri ooob reatsa fi eth seseslu srtetel eere eveoemv\""
            ],
            "application/vnd.google.colaboratory.intrinsic+json": {
              "type": "string"
            }
          },
          "metadata": {},
          "execution_count": 83
        }
      ]
    },
    {
      "cell_type": "code",
      "source": [
        "#repcace all of the letters from the alphabet except for the first and last\n",
        "\n",
        "import string\n",
        "alllethers = string.ascii_lowercase\n",
        "\n",
        "for wi in range(len(words)):\n",
        "\n",
        "  # ignore short words\n",
        "  if len(words[wi])<4:\n",
        "    continue\n",
        "\n",
        "  thisword = word[wi][1:-1] #not including the last word\n",
        "  idx = np.random.randint(0, len(alllethers), len(thisword))\n",
        "  words[wi] = words[wi][0] + ''.join([alllethers[i] for i in idx]) + words[wi][-1]\n",
        "\n",
        "' '.join(words)"
      ],
      "metadata": {
        "colab": {
          "base_uri": "https://localhost:8080/",
          "height": 35
        },
        "id": "zFGlzPggNUOD",
        "outputId": "d3deafc6-21b9-4ace-f11a-98300ab03fec"
      },
      "execution_count": 87,
      "outputs": [
        {
          "output_type": "execute_result",
          "data": {
            "text/plain": [
              "\"I alpe fqban oyphpyud rbdgxlh 'gut puzowcwi ot acye na nxvppi oimb rmwcwa fi eth swuopcu sjpdzul ehqe eyqbejv\""
            ],
            "application/vnd.google.colaboratory.intrinsic+json": {
              "type": "string"
            }
          },
          "metadata": {},
          "execution_count": 87
        }
      ]
    }
  ]
}